{
 "cells": [
  {
   "cell_type": "markdown",
   "metadata": {
    "slideshow": {
     "slide_type": "slide"
    }
   },
   "source": [
    "### The Map Equation\n",
    "\n",
    "\\begin{equation*}\n",
    "    L(M) = q_\\curvearrowright H(\\mathcal{Q}) + \\sum_{i = 1}^{m}{p_{\\circlearrowright}^i H(\\mathcal{P}^i)}\n",
    "\\end{equation*}\n",
    "\n",
    "$L(M)$ measures the amount of information it takes to describe a random walk on a network given a partition of the network into modules $M$. It is a sum of the amount of information needed to describe the movements _between_ and _within_ the modules, which balances the goodness of fit with the complexity of the model. For more information, see [www.mapequation.org](http://www.mapequation.org)."
   ]
  },
  {
   "cell_type": "markdown",
   "metadata": {
    "slideshow": {
     "slide_type": "subslide"
    }
   },
   "source": [
    "# Infomap\n",
    "Infomap is a stochastic network clustering algorithm developed to minimize the [Map equation](http://www.mapequation.org/publications.html#Rosvall-Axelsson-Bergstrom-2009-Map-equation)."
   ]
  },
  {
   "cell_type": "markdown",
   "metadata": {
    "slideshow": {
     "slide_type": "subslide"
    }
   },
   "source": [
    "### Features\n",
    "\n",
    "Infomap supports\n",
    "* Unweighted and weighted links\n",
    "* Undirected and directed links\n",
    "* Two-level and multi-level solutions\n",
    "* First-order and second-order dynamics\n",
    "* Sparse Markov model dynamics\n",
    "* Single- and multi-layer networks"
   ]
  },
  {
   "cell_type": "markdown",
   "metadata": {
    "slideshow": {
     "slide_type": "slide"
    }
   },
   "source": [
    "## Getting started\n",
    "\n",
    "See https://www.mapequation.org/infomap/ where you can run Infomap online and interactively explore the input and output options.\n",
    "See https://mapequation.github.io/infomap/ to get started with Infomap in python."
   ]
  },
  {
   "cell_type": "markdown",
   "metadata": {
    "slideshow": {
     "slide_type": "subslide"
    }
   },
   "source": [
    "### Install Infomap\n",
    "\n",
    "Infomap is available on [PyPI](https://pypi.org/project/infomap/), install it with\n",
    "```\n",
    "pip install infomap\n",
    "```\n",
    "or upgrade with\n",
    "```\n",
    "pip install --upgrade infomap\n",
    "```"
   ]
  },
  {
   "cell_type": "code",
   "execution_count": 58,
   "metadata": {
    "slideshow": {
     "slide_type": "subslide"
    }
   },
   "outputs": [
    {
     "name": "stdout",
     "output_type": "stream",
     "text": [
      "2.8.0\n"
     ]
    }
   ],
   "source": [
    "import infomap\n",
    "print(infomap.__version__)"
   ]
  },
  {
   "cell_type": "markdown",
   "metadata": {
    "slideshow": {
     "slide_type": "slide"
    }
   },
   "source": [
    "## Basic command line use\n",
    "The installation of the python package also installs a binary for command line use, exemplified below."
   ]
  },
  {
   "cell_type": "markdown",
   "metadata": {
    "slideshow": {
     "slide_type": "subslide"
    }
   },
   "source": [
    "Command line programs can be called directly from jupyter by adding `!` in front, for example `!ls`. Run Infomap on the `ninetriangles.net` network in the `data` folder and direct output to the `output` folder. Run it with `5` trials to see the effect of the stochastic nature of Infomap."
   ]
  },
  {
   "cell_type": "code",
   "execution_count": 59,
   "metadata": {
    "slideshow": {
     "slide_type": "subslide"
    }
   },
   "outputs": [
    {
     "name": "stdout",
     "output_type": "stream",
     "text": [
      "=======================================================\n",
      "  Infomap v2.8.0 starts at 2024-09-05 15:54:04\n",
      "  -> Input network: data/ninetriangles.net\n",
      "  -> Output path:   output/\n",
      "  -> Configuration: num-trials = 5\n",
      "=======================================================\n",
      "  OpenMP 202011 detected with 10 threads...\n",
      "Parsing undirected network from file 'data/ninetriangles.net'...\n",
      "  Parsing vertices...\n",
      "  -> 27 physical nodes added\n",
      "  Parsing links...\n",
      "  -> 39 links\n",
      "Done!\n",
      "-------------------------------------\n",
      "  -> 27 nodes\n",
      "  -> 39 links with total weight 39\n",
      "  -> Ordinary network input, using the Map Equation for first order network flows\n",
      "Calculating global network flow using flow model 'undirected'... \n",
      "  -> Using undirected links.\n",
      "  => Sum node flow: 1, sum link flow: 1\n",
      "Build internal network with 27 nodes and 39 links...\n",
      "  -> One-level codelength: 4.74543683\n",
      "\n",
      "================================================\n",
      "Trial 1/5 starting at 2024-09-05 15:54:04\n",
      "================================================\n",
      "Two-level compression: 24% 1.2e-14% \n",
      "Partitioned to codelength 0.834460841 + 2.77829088 = 3.612751718 in 8 modules.\n",
      "Super-level compression: 0.315199281% to codelength 3.601364351 in 2 top modules.\n",
      "\n",
      "Recursive sub-structure compression: 12.0491288% 3.59909222% 0% . Found 4 levels with codelength 3.535471932\n",
      "\n",
      "=> Trial 1/5 finished in 0.0006855s with codelength 3.53547193\n",
      "Write tree to output/ninetriangles.tree... done!\n",
      "\n",
      "================================================\n",
      "Trial 2/5 starting at 2024-09-05 15:54:04\n",
      "================================================\n",
      "Two-level compression: 25% 5e-14% \n",
      "Partitioned to codelength 0.641526923 + 2.92289551 = 3.564422432 in 7 modules.\n",
      "Super-level compression: to codelength 3.564422432 in 7 top modules.\n",
      "\n",
      "Recursive sub-structure compression: 1.85156977% 0% . Found 3 levels with codelength 3.498424664\n",
      "\n",
      "=> Trial 2/5 finished in 0.000382958s with codelength 3.49842466\n",
      "Write tree to output/ninetriangles.tree... done!\n",
      "\n",
      "================================================\n",
      "Trial 3/5 starting at 2024-09-05 15:54:04\n",
      "================================================\n",
      "Two-level compression: 22% 2.4% \n",
      "Partitioned to codelength 0.352689423 + 3.24157925 = 3.594268674 in 5 modules.\n",
      "Super-level compression: to codelength 3.594268674 in 5 top modules.\n",
      "\n",
      "Recursive sub-structure compression: 3.67238924% 0% . Found 3 levels with codelength 3.462273138\n",
      "\n",
      "=> Trial 3/5 finished in 0.000452209s with codelength 3.46227314\n",
      "Write tree to output/ninetriangles.tree... done!\n",
      "\n",
      "================================================\n",
      "Trial 4/5 starting at 2024-09-05 15:54:04\n",
      "================================================\n",
      "Two-level compression: 18% 2.3% 4.38747824% \n",
      "Partitioned to codelength 0.519105449 + 3.09697462 = 3.616080068 in 6 modules.\n",
      "Super-level compression: to codelength 3.616080068 in 6 top modules.\n",
      "\n",
      "Recursive sub-structure compression: 1.8251191% 0% . Found 3 levels with codelength 3.5500823\n",
      "\n",
      "=> Trial 4/5 finished in 0.000387125s with codelength 3.5500823\n",
      "\n",
      "================================================\n",
      "Trial 5/5 starting at 2024-09-05 15:54:04\n",
      "================================================\n",
      "Two-level compression: 23% 2.8% \n",
      "Partitioned to codelength 0.641526923 + 2.92289551 = 3.564422432 in 7 modules.\n",
      "Super-level compression: to codelength 3.564422432 in 7 top modules.\n",
      "\n",
      "Recursive sub-structure compression: 1.85156977% 0% . Found 3 levels with codelength 3.498424664\n",
      "\n",
      "=> Trial 5/5 finished in 0.000355416s with codelength 3.49842466\n",
      "\n",
      "\n",
      "================================================\n",
      "Summary after 5 trials\n",
      "================================================\n",
      "\n",
      " -> Initiated to codelength 3.46227314 in 3 levels with 5 top modules.\n",
      "Write tree to output/ninetriangles.tree... done!\n",
      "Codelengths: [3.535471932, 3.498424664, 3.462273138, 3.550082300, 3.498424664]\n",
      "[min, average, max] codelength: [3.462273138, 3.508935339, 3.550082300]\n",
      "\n",
      "Best end modular solution in 3 levels:\n",
      "Per level number of modules:         [          5,           6,           0] (sum: 11)\n",
      "Per level number of leaf nodes:      [          0,           9,          18] (sum: 27)\n",
      "Per level average child degree:      [          5,           3,           3] (average: 3.263157895)\n",
      "Per level codelength for modules:    [0.352689423, 0.505371947, 0.000000000] (sum: 0.858061370)\n",
      "Per level codelength for leaf nodes: [0.000000000, 0.868070589, 1.736141178] (sum: 2.604211767)\n",
      "Per level codelength total:          [0.352689423, 1.373442536, 1.736141178] (sum: 3.462273138)\n",
      "\n",
      "===================================================\n",
      "  Infomap ends at 2024-09-05 15:54:04\n",
      "  (Elapsed time: 0.003360042s)\n",
      "===================================================\n"
     ]
    }
   ],
   "source": [
    "!mkdir -p output\n",
    "!infomap data/ninetriangles.net output/ -N5"
   ]
  },
  {
   "cell_type": "markdown",
   "metadata": {
    "slideshow": {
     "slide_type": "subslide"
    }
   },
   "source": [
    "### Input network\n",
    "The input network above was formed as nine triangles clustered in three levels, which was also recovered with the Infomap clustering algorithm after some trials.\n",
    "\n",
    "![triangle-network](http://www.mapequation.org/assets/img/triangle-network-levels_3.svg)"
   ]
  },
  {
   "cell_type": "code",
   "execution_count": 60,
   "metadata": {
    "slideshow": {
     "slide_type": "subslide"
    }
   },
   "outputs": [
    {
     "name": "stdout",
     "output_type": "stream",
     "text": [
      "*Vertices 27\n",
      " 1 \"1\"\n",
      " 2 \"2\"\n",
      " 3 \"3\"\n",
      " 4 \"4\"\n",
      " 5 \"5\"\n",
      " 6 \"6\"\n",
      " 7 \"7\"\n",
      " 8 \"8\"\n",
      " 9 \"9\"\n",
      " 10 \"10\"\n",
      " 11 \"11\"\n",
      " 12 \"12\"\n",
      " 13 \"13\"\n",
      " 14 \"14\"\n",
      " 15 \"15\"\n",
      " 16 \"16\"\n",
      " 17 \"17\"\n",
      " 18 \"18\"\n",
      " 19 \"19\"\n",
      " 20 \"20\"\n",
      " 21 \"21\"\n",
      " 22 \"22\"\n",
      " 23 \"23\"\n",
      " 24 \"24\"\n",
      " 25 \"25\"\n",
      " 26 \"26\"\n",
      " 27 \"27\"\n",
      "*Edges 39\n",
      "1 2 1\n",
      "1 3 1\n",
      "1 4 1\n",
      "2 3 1\n",
      "3 7 1\n",
      "4 5 1 \n",
      "4 6 1 \n",
      "5 6 1 \n",
      "6 8 1 \n",
      "7 8 1 \n",
      "7 9 1 \n",
      "8 9 1 \n",
      "10 11 1\n",
      "10 12 1\n",
      "10 13 1\n",
      "11 12 1\n",
      "12 16 1\n",
      "13 14 1 \n",
      "13 15 1 \n",
      "14 15 1 \n",
      "15 17 1 \n",
      "16 17 1 \n",
      "16 18 1 \n",
      "17 18 1\n",
      "19 20 1\n",
      "19 21 1\n",
      "19 22 1\n",
      "20 21 1\n",
      "21 25 1\n",
      "22 23 1 \n",
      "22 24 1 \n",
      "23 24 1 \n",
      "24 26 1 \n",
      "25 26 1 \n",
      "25 27 1 \n",
      "26 27 1\n",
      "9 20 1\n",
      "5 11 1\n",
      "18 23 1\n"
     ]
    }
   ],
   "source": [
    "from pathlib import Path\n",
    "print(Path('data/ninetriangles.net').read_text())"
   ]
  },
  {
   "cell_type": "markdown",
   "metadata": {
    "slideshow": {
     "slide_type": "slide"
    }
   },
   "source": [
    "### Output format\n",
    "By default on the command line, Infomap writes an output file with the same name as the input but with the `.tree` extension. This file contains the multi-level modular structure of the input network."
   ]
  },
  {
   "cell_type": "code",
   "execution_count": 61,
   "metadata": {
    "slideshow": {
     "slide_type": "subslide"
    }
   },
   "outputs": [
    {
     "name": "stdout",
     "output_type": "stream",
     "text": [
      "# v2.8.0\n",
      "# ./Infomap data/ninetriangles.net output/ -N5\n",
      "# started at 2024-09-05 15:54:04\n",
      "# completed in 0.00336004 s\n",
      "# partitioned into 3 levels with 5 top modules\n",
      "# codelength 3.46227 bits\n",
      "# relative codelength savings 27.0399%\n",
      "# flow model undirected\n",
      "# path flow name node_id\n",
      "1:1:1 0.0384615 \"19\" 19\n",
      "1:1:2 0.0384615 \"20\" 20\n",
      "1:1:3 0.0384615 \"21\" 21\n",
      "1:2:1 0.0384615 \"22\" 22\n",
      "1:2:2 0.0384615 \"23\" 23\n",
      "1:2:3 0.0384615 \"24\" 24\n",
      "1:3:1 0.0384615 \"25\" 25\n",
      "1:3:2 0.0384615 \"26\" 26\n",
      "1:3:3 0.025641 \"27\" 27\n",
      "2:1:1 0.0384615 \"10\" 10\n",
      "2:1:2 0.0384615 \"11\" 11\n",
      "2:1:3 0.0384615 \"12\" 12\n",
      "2:2:1 0.0384615 \"16\" 16\n",
      "2:2:2 0.0384615 \"17\" 17\n",
      "2:2:3 0.0384615 \"18\" 18\n",
      "2:3:1 0.0384615 \"13\" 13\n",
      "2:3:2 0.0384615 \"15\" 15\n",
      "2:3:3 0.025641 \"14\" 14\n",
      "3:1 0.0384615 \"4\" 4\n",
      "3:2 0.0384615 \"5\" 5\n",
      "3:3 0.0384615 \"6\" 6\n",
      "4:1 0.0384615 \"7\" 7\n",
      "4:2 0.0384615 \"8\" 8\n",
      "4:3 0.0384615 \"9\" 9\n",
      "5:1 0.0384615 \"1\" 1\n",
      "5:2 0.0384615 \"3\" 3\n",
      "5:3 0.025641 \"2\" 2\n",
      "\n"
     ]
    }
   ],
   "source": [
    "print(Path('output/ninetriangles.tree').read_text())"
   ]
  },
  {
   "cell_type": "markdown",
   "metadata": {
    "slideshow": {
     "slide_type": "slide"
    }
   },
   "source": [
    "## From Python\n",
    "The python API gives more flexibility, but we can still work with files in a similar way as the cli use above."
   ]
  },
  {
   "cell_type": "code",
   "execution_count": 62,
   "metadata": {
    "slideshow": {
     "slide_type": "subslide"
    }
   },
   "outputs": [
    {
     "name": "stdout",
     "output_type": "stream",
     "text": [
      "Clustered in 3 levels with codelength 3.4622731375264144\n",
      "Writing result to file...\n",
      "Done!\n",
      "\n",
      "Output .ftree file:\n",
      "# v2.8.0\n",
      "# ./Infomap  --silent --num-trials 5\n",
      "# started at 2024-09-05 15:54:05\n",
      "# completed in 0.00643613 s\n",
      "# partitioned into 3 levels with 5 top modules\n",
      "# codelength 3.46227 bits\n",
      "# relative codelength savings 27.0399%\n",
      "# flow model undirected\n",
      "# path flow name node_id\n",
      "1:1:1 0.0384615 \"19\" 19\n",
      "1:1:2 0.0384615 \"20\" 20\n",
      "1:1:3 0.0384615 \"21\" 21\n",
      "1:2:1 0.0384615 \"22\" 22\n",
      "1:2:2 0.0384615 \"23\" 23\n",
      "1:2:3 0.0384615 \"24\" 24\n",
      "1:3:1 0.0384615 \"25\" 25\n",
      "1:3:2 0.0384615 \"26\" 26\n",
      "1:3:3 0.025641 \"27\" 27\n",
      "2:1:1 0.0384615 \"10\" 10\n",
      "2:1:2 0.0384615 \"11\" 11\n",
      "2:1:3 0.0384615 \"12\" 12\n",
      "2:2:1 0.0384615 \"16\" 16\n",
      "2:2:2 0.0384615 \"17\" 17\n",
      "2:2:3 0.0384615 \"18\" 18\n",
      "2:3:1 0.0384615 \"13\" 13\n",
      "2:3:2 0.0384615 \"15\" 15\n",
      "2:3:3 0.025641 \"14\" 14\n",
      "3:1 0.0384615 \"4\" 4\n",
      "3:2 0.0384615 \"5\" 5\n",
      "3:3 0.0384615 \"6\" 6\n",
      "4:1 0.0384615 \"7\" 7\n",
      "4:2 0.0384615 \"8\" 8\n",
      "4:3 0.0384615 \"9\" 9\n",
      "5:1 0.0384615 \"1\" 1\n",
      "5:2 0.0384615 \"3\" 3\n",
      "5:3 0.025641 \"2\" 2\n",
      "*Links undirected\n",
      "#*Links path enterFlow exitFlow numEdges numChildren\n",
      "*Links root 0 0 6 5\n",
      "2 1 0.025641\n",
      "3 2 0.025641\n",
      "3 4 0.025641\n",
      "4 1 0.025641\n",
      "5 3 0.025641\n",
      "5 4 0.025641\n",
      "*Links 1 0.025641 0.025641 3 3\n",
      "1 2 0.025641\n",
      "1 3 0.025641\n",
      "2 3 0.025641\n",
      "*Links 1:1 0.0384615 0.0384615 3 3\n",
      "1 2 0.025641\n",
      "1 3 0.025641\n",
      "2 3 0.025641\n",
      "*Links 1:2 0.0384615 0.0384615 3 3\n",
      "1 2 0.025641\n",
      "1 3 0.025641\n",
      "2 3 0.025641\n",
      "*Links 1:3 0.025641 0.025641 3 3\n",
      "1 2 0.025641\n",
      "1 3 0.025641\n",
      "2 3 0.025641\n",
      "*Links 2 0.025641 0.025641 3 3\n",
      "1 2 0.025641\n",
      "1 3 0.025641\n",
      "3 2 0.025641\n",
      "*Links 2:1 0.0384615 0.0384615 3 3\n",
      "1 2 0.025641\n",
      "1 3 0.025641\n",
      "2 3 0.025641\n",
      "*Links 2:2 0.0384615 0.0384615 3 3\n",
      "1 2 0.025641\n",
      "1 3 0.025641\n",
      "2 3 0.025641\n",
      "*Links 2:3 0.025641 0.025641 3 3\n",
      "1 2 0.025641\n",
      "1 3 0.025641\n",
      "3 2 0.025641\n",
      "*Links 3 0.0384615 0.0384615 3 3\n",
      "1 2 0.025641\n",
      "1 3 0.025641\n",
      "2 3 0.025641\n",
      "*Links 4 0.0384615 0.0384615 3 3\n",
      "1 2 0.025641\n",
      "1 3 0.025641\n",
      "2 3 0.025641\n",
      "*Links 5 0.025641 0.025641 3 3\n",
      "1 2 0.025641\n",
      "1 3 0.025641\n",
      "3 2 0.025641\n",
      "\n"
     ]
    }
   ],
   "source": [
    "# Add `silent=True` to not let Infomap print to standard output while running\n",
    "im = infomap.Infomap(num_trials=5, silent=True)\n",
    "\n",
    "# Read from file\n",
    "im.read_file(\"data/ninetriangles.net\")\n",
    "\n",
    "im.run()\n",
    "\n",
    "print(f\"Clustered in {im.max_depth} levels with codelength {im.codelength}\")\n",
    "\n",
    "print(\"Writing result to file...\")\n",
    "im.write_clu(\"output/ninetriangles.clu\")\n",
    "im.write_flow_tree(\"output/ninetriangles.ftree\")\n",
    "print(\"Done!\")\n",
    "\n",
    "print(\"\\nOutput .ftree file:\")\n",
    "print(Path('output/ninetriangles.ftree').read_text())"
   ]
  },
  {
   "cell_type": "markdown",
   "metadata": {
    "slideshow": {
     "slide_type": "slide"
    }
   },
   "source": [
    "## Basic programmatic use"
   ]
  },
  {
   "cell_type": "code",
   "execution_count": 63,
   "metadata": {
    "slideshow": {
     "slide_type": "subslide"
    }
   },
   "outputs": [],
   "source": [
    "im = infomap.Infomap(directed=True, silent=True)\n",
    "\n",
    "# Add link weight as an optional third argument\n",
    "im.add_link(0, 1)\n",
    "im.add_link(0, 2)\n",
    "im.add_link(0, 3)\n",
    "im.add_link(1, 0)\n",
    "im.add_link(1, 2)\n",
    "im.add_link(2, 1)\n",
    "im.add_link(2, 0)\n",
    "im.add_link(3, 0)\n",
    "im.add_link(3, 4)\n",
    "im.add_link(3, 5)\n",
    "im.add_link(4, 3)\n",
    "im.add_link(4, 5)\n",
    "im.add_link(5, 4)\n",
    "im.add_link(5, 3)"
   ]
  },
  {
   "cell_type": "code",
   "execution_count": 64,
   "metadata": {
    "slideshow": {
     "slide_type": "subslide"
    }
   },
   "outputs": [
    {
     "name": "stdout",
     "output_type": "stream",
     "text": [
      "Found 2 top modules with codelength 2.3207303568337894\n",
      "\n",
      "Result tree:\n",
      "#path flow [nodeId]\n",
      "() 0.9999999999999996\n",
      "(1,) 0.49999999999999983\n",
      "(1, 1) 0.21428571428571425 0\n",
      "(1, 2) 0.1428571428571428 1\n",
      "(1, 3) 0.1428571428571428 2\n",
      "(2,) 0.4999999999999998\n",
      "(2, 1) 0.2142857142857142 3\n",
      "(2, 2) 0.14285714285714282 4\n",
      "(2, 3) 0.14285714285714282 5\n"
     ]
    }
   ],
   "source": [
    "im.run()\n",
    "\n",
    "print(f\"Found {im.num_top_modules} top modules with codelength {im.codelength}\")\n",
    "\n",
    "print(\"\\nResult tree:\\n#path flow [nodeId]\")\n",
    "for node in im.tree:\n",
    "    if node.is_leaf:\n",
    "        print(f\"{node.path} {node.data.flow} {node.node_id}\")\n",
    "    else:\n",
    "        print(f\"{node.path} {node.data.flow}\")"
   ]
  },
  {
   "cell_type": "markdown",
   "metadata": {
    "slideshow": {
     "slide_type": "slide"
    }
   },
   "source": [
    "## Infomap + NetworkX\n",
    "Generate and draw a network with NetworkX, colored\n",
    "according to the community structure found by Infomap."
   ]
  },
  {
   "cell_type": "code",
   "execution_count": 65,
   "metadata": {
    "slideshow": {
     "slide_type": "subslide"
    }
   },
   "outputs": [],
   "source": [
    "import networkx as nx\n",
    "import matplotlib.pyplot as plt\n",
    "import matplotlib.colors as colors"
   ]
  },
  {
   "cell_type": "code",
   "execution_count": 66,
   "metadata": {
    "slideshow": {
     "slide_type": "subslide"
    }
   },
   "outputs": [
    {
     "name": "stdout",
     "output_type": "stream",
     "text": [
      "Find communities with Infomap...\n",
      "Found 3 modules with codelength: 4.0874231588196235\n"
     ]
    },
    {
     "data": {
      "text/plain": [
       "NodeDataView({0: {'club': 'Mr. Hi', 'module': 2}, 1: {'club': 'Mr. Hi', 'module': 2}, 2: {'club': 'Mr. Hi', 'module': 2}, 3: {'club': 'Mr. Hi', 'module': 2}, 4: {'club': 'Mr. Hi', 'module': 3}, 5: {'club': 'Mr. Hi', 'module': 3}, 6: {'club': 'Mr. Hi', 'module': 3}, 7: {'club': 'Mr. Hi', 'module': 2}, 8: {'club': 'Mr. Hi', 'module': 1}, 9: {'club': 'Officer', 'module': 1}, 10: {'club': 'Mr. Hi', 'module': 3}, 11: {'club': 'Mr. Hi', 'module': 2}, 12: {'club': 'Mr. Hi', 'module': 2}, 13: {'club': 'Mr. Hi', 'module': 2}, 14: {'club': 'Officer', 'module': 1}, 15: {'club': 'Officer', 'module': 1}, 16: {'club': 'Mr. Hi', 'module': 3}, 17: {'club': 'Mr. Hi', 'module': 2}, 18: {'club': 'Officer', 'module': 1}, 19: {'club': 'Mr. Hi', 'module': 2}, 20: {'club': 'Officer', 'module': 1}, 21: {'club': 'Mr. Hi', 'module': 2}, 22: {'club': 'Officer', 'module': 1}, 23: {'club': 'Officer', 'module': 1}, 24: {'club': 'Officer', 'module': 1}, 25: {'club': 'Officer', 'module': 1}, 26: {'club': 'Officer', 'module': 1}, 27: {'club': 'Officer', 'module': 1}, 28: {'club': 'Officer', 'module': 1}, 29: {'club': 'Officer', 'module': 1}, 30: {'club': 'Officer', 'module': 1}, 31: {'club': 'Officer', 'module': 1}, 32: {'club': 'Officer', 'module': 1}, 33: {'club': 'Officer', 'module': 1}})"
      ]
     },
     "execution_count": 66,
     "metadata": {},
     "output_type": "execute_result"
    }
   ],
   "source": [
    "def find_communities(G):\n",
    "    \"\"\"\n",
    "    Partition network with the Infomap algorithm.\n",
    "    Annotates nodes with 'community' id and return number of communities found.\n",
    "    \"\"\"\n",
    "    im = infomap.Infomap(silent=True, two_level=True)\n",
    "\n",
    "    im.add_networkx_graph(G)\n",
    "    \n",
    "    print(\"Find communities with Infomap...\")\n",
    "    im.run()\n",
    "\n",
    "    print(f\"Found {im.num_top_modules} modules with codelength: {im.codelength}\")\n",
    "\n",
    "    # Store the module as node attribute\n",
    "    nx.set_node_attributes(G, values=im.get_modules(), name='module')\n",
    "    \n",
    "G = nx.karate_club_graph()\n",
    "find_communities(G)\n",
    "G.nodes.data()"
   ]
  },
  {
   "cell_type": "code",
   "execution_count": 67,
   "metadata": {},
   "outputs": [
    {
     "data": {
      "text/plain": [
       "dict_values([2, 2, 2, 2, 3, 3, 3, 2, 1, 1, 3, 2, 2, 2, 1, 1, 3, 2, 1, 2, 1, 2, 1, 1, 1, 1, 1, 1, 1, 1, 1, 1, 1, 1])"
      ]
     },
     "execution_count": 67,
     "metadata": {},
     "output_type": "execute_result"
    }
   ],
   "source": [
    "nx.get_node_attributes(G, 'module').values()"
   ]
  },
  {
   "cell_type": "code",
   "execution_count": 68,
   "metadata": {
    "slideshow": {
     "slide_type": "subslide"
    }
   },
   "outputs": [
    {
     "data": {
      "image/png": "[encoded data removed]",
      "text/plain": [
       "<Figure size 640x480 with 1 Axes>"
      ]
     },
     "metadata": {},
     "output_type": "display_data"
    }
   ],
   "source": [
    "def draw_network(G):\n",
    "    # position map\n",
    "    pos = nx.spring_layout(G)\n",
    "    # community ids\n",
    "    modules = nx.get_node_attributes(G, 'module')\n",
    "    n_modules = max(modules)\n",
    "    # color map from http://colorbrewer2.org/\n",
    "    cmap_light = colors.ListedColormap(['#a6cee3', '#b2df8a', '#fb9a99', '#fdbf6f', '#cab2d6'], 'indexed', n_modules)\n",
    "    cmap_dark = colors.ListedColormap(['#1f78b4', '#33a02c', '#e31a1c', '#ff7f00', '#6a3d9a'], 'indexed', n_modules)\n",
    "\n",
    "    # Draw edges\n",
    "    nx.draw_networkx_edges(G, pos, edge_color=\"#999999\")\n",
    "\n",
    "    # Draw nodes\n",
    "    nx.draw_networkx_nodes(G,\n",
    "        pos = pos,\n",
    "        node_color = [cmap_light(m) for m in modules.values()],\n",
    "        edgecolors = [cmap_dark(m) for m in modules.values()],\n",
    "    )\n",
    "    \n",
    "    # Draw node labels\n",
    "    for n in G.nodes():\n",
    "        plt.annotate(n,\n",
    "            xy = pos[n],\n",
    "            textcoords = 'offset points',\n",
    "            horizontalalignment = 'center',\n",
    "            verticalalignment = 'center',\n",
    "            xytext = [0, 0],\n",
    "            color = cmap_dark(modules[n])\n",
    "        )\n",
    "\n",
    "    plt.axis('off')\n",
    "    # plt.savefig(\"karate.png\")\n",
    "    plt.show()\n",
    "\n",
    "draw_network(G)"
   ]
  },
  {
   "cell_type": "markdown",
   "metadata": {
    "slideshow": {
     "slide_type": "slide"
    }
   },
   "source": [
    "## Higher-order networks"
   ]
  },
  {
   "cell_type": "markdown",
   "metadata": {
    "slideshow": {
     "slide_type": "subslide"
    }
   },
   "source": [
    "### General state networks\n",
    "The [state format](http://www.mapequation.org/code.html#State-format) describes the exact network that Infomap uses internally. It can model both ordinary networks and memory networks (of variable order).\n",
    "\n",
    "#### Example\n",
    "```\n",
    "*Vertices 4\n",
    "1 \"PRE\"\n",
    "2 \"SCIENCE\"\n",
    "3 \"PRL\"\n",
    "4 \"BIO\"\n",
    "# *ngrams\n",
    "# 1 2 3\n",
    "# 1 2 2 3\n",
    "# 4 2 4\n",
    "*States\n",
    "#state_id node_id [name]\n",
    "1 2 \"1 2\"\n",
    "2 3 \"2 3\"\n",
    "3 2 \"1 2 2\"\n",
    "4 2 \"4 2\"\n",
    "5 4 \"2 4\"\n",
    "*Links\n",
    "1 2\n",
    "3 2\n",
    "4 5\n",
    "```\n",
    "Here some ngrams are represented by ordinary links between a set of state nodes."
   ]
  },
  {
   "cell_type": "markdown",
   "metadata": {
    "slideshow": {
     "slide_type": "slide"
    }
   },
   "source": [
    "#### Programmatically creating a state network"
   ]
  },
  {
   "cell_type": "code",
   "execution_count": 69,
   "metadata": {
    "slideshow": {
     "slide_type": "subslide"
    }
   },
   "outputs": [
    {
     "name": "stdout",
     "output_type": "stream",
     "text": [
      "Found 2 modules with codelength 1.34436094 bits\n",
      "\n",
      "#node_id module\n",
      "0 1\n",
      "1 1\n",
      "2 1\n",
      "3 1\n",
      "4 2\n",
      "5 2\n",
      "\n",
      "State nodes:\n",
      "#state_id node_id module_id\n",
      "1 2 1\n",
      "2 3 1\n",
      "0 1 1\n",
      "3 2 1\n",
      "4 2 2\n",
      "5 4 2\n",
      "\n",
      "Physical nodes (merging state nodes with same physical node id within modules):\n",
      "#node_id module_id\n",
      "1 1\n",
      "2 1\n",
      "3 1\n",
      "2 2\n",
      "4 2\n"
     ]
    }
   ],
   "source": [
    "im = infomap.Infomap(two_level=True, silent=True)\n",
    "\n",
    "im.set_name(1, \"PRE\")\n",
    "im.set_name(2, \"SCIENCE\")\n",
    "im.set_name(3, \"PRL\")\n",
    "im.set_name(4, \"BIO\")\n",
    "\n",
    "im.add_state_node(0, 1)\n",
    "im.add_state_node(1, 2)\n",
    "im.add_state_node(2, 3)\n",
    "im.add_state_node(3, 2)\n",
    "im.add_state_node(4, 2)\n",
    "im.add_state_node(5, 4)\n",
    "\n",
    "im.add_link(0, 1)\n",
    "im.add_link(1, 2)\n",
    "im.add_link(3, 2)\n",
    "im.add_link(4, 5)\n",
    "\n",
    "im.run()\n",
    "\n",
    "print(f\"Found {im.num_top_modules} modules with codelength {im.codelength:.8f} bits\")\n",
    "\n",
    "print(\"\\n#node_id module\")\n",
    "for node, module in im.get_modules(states=True).items():\n",
    "    print(node, module)\n",
    "\n",
    "print(\"\\nState nodes:\")\n",
    "print(\"#state_id node_id module_id\")\n",
    "for node in im.nodes:\n",
    "    print(node.state_id, node.node_id, node.module_id)\n",
    "\n",
    "print(\n",
    "    \"\\nPhysical nodes (merging state nodes with same physical node id within modules):\"\n",
    ")\n",
    "print(\"#node_id module_id\")\n",
    "for node in im.physical_tree:\n",
    "    if node.is_leaf:\n",
    "        print(node.node_id, node.module_id)"
   ]
  },
  {
   "cell_type": "code",
   "execution_count": null,
   "metadata": {
    "slideshow": {
     "slide_type": "skip"
    }
   },
   "outputs": [],
   "source": []
  }
 ],
 "metadata": {
  "celltoolbar": "Slideshow",
  "kernelspec": {
   "display_name": "Python 3",
   "language": "python",
   "name": "python3"
  },
  "language_info": {
   "codemirror_mode": {
    "name": "ipython",
    "version": 3
   },
   "file_extension": ".py",
   "mimetype": "text/x-python",
   "name": "python",
   "nbconvert_exporter": "python",
   "pygments_lexer": "ipython3",
   "version": "3.12.4"
  }
 },
 "nbformat": 4,
 "nbformat_minor": 2
}
